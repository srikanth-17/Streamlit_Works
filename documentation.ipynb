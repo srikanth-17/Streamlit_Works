{
 "cells": [
  {
   "cell_type": "markdown",
   "metadata": {},
   "source": [
    "# *__Documented Example codes of `Streamlit Library`__*\n",
    "\n",
    "---"
   ]
  },
  {
   "cell_type": "markdown",
   "metadata": {},
   "source": [
    "### _Here I just pasted the code which i have executed in the *```main.py```*_\n",
    "\n",
    "### _*_Make sure you have installed all the packages in your virtual-environment_*_"
   ]
  },
  {
   "cell_type": "markdown",
   "metadata": {},
   "source": [
    "**_Importing the required `libraries`_**"
   ]
  },
  {
   "cell_type": "code",
   "execution_count": 18,
   "metadata": {},
   "outputs": [],
   "source": [
    "#importing all the packages\n",
    "import streamlit as st,numpy as np,matplotlib,pandas as pd\n",
    "import os,math,datetime,time"
   ]
  },
  {
   "cell_type": "markdown",
   "metadata": {},
   "source": [
    "**_`Configuration` of The Page_**"
   ]
  },
  {
   "cell_type": "code",
   "execution_count": null,
   "metadata": {},
   "outputs": [],
   "source": [
    "st.set_page_config(page_title=\"Srikanth\",layout=\"wide\",page_icon=\"🌹\")"
   ]
  },
  {
   "cell_type": "markdown",
   "metadata": {},
   "source": [
    "**_`Write` Method_**"
   ]
  },
  {
   "cell_type": "code",
   "execution_count": null,
   "metadata": {},
   "outputs": [],
   "source": [
    "st.write(\"hello\")\n",
    "# st.write( elements)\n",
    "st.write({\n",
    "    123:\"2542\"\n",
    "})\n",
    "\"hello world\"\n",
    "5+9"
   ]
  },
  {
   "cell_type": "markdown",
   "metadata": {},
   "source": [
    "**_`button` method_**\n"
   ]
  },
  {
   "cell_type": "code",
   "execution_count": null,
   "metadata": {},
   "outputs": [],
   "source": [
    "\"st.button(str)\"\n",
    "k=st.button(\" A PRESS\")\n",
    "k2=st.button(\"B Press\")\n",
    "l=[\"srikanth\",\"kavitha\"]\n",
    "d={\n",
    "    \"srikanth\":22,\n",
    "    \"kavitha\":49\n",
    "}\n",
    "if st.button(\":red[Press]\"):\n",
    "    st.write(l)\n",
    "    st.json(d)"
   ]
  },
  {
   "cell_type": "markdown",
   "metadata": {},
   "source": [
    "**_`Text Elements` and Page `Divider` Method_**"
   ]
  },
  {
   "cell_type": "code",
   "execution_count": null,
   "metadata": {},
   "outputs": [],
   "source": [
    "st.title(\"hello\")\n",
    "\n",
    "st.title(\"Hello :blue[Srikanth] Nice to meet :red[you]\")\n",
    "\n",
    "st.header(\"hello\")\n",
    "\n",
    "st.markdown(\"# Hello Mr :red[Srikanth] \")\n",
    "\n",
    "code=\"\"\"\n",
    "print(\"hello world\")\n",
    "\n",
    "\"\"\"\n",
    "st.code(code,language='python')\n",
    "\n",
    "st.divider()"
   ]
  },
  {
   "cell_type": "markdown",
   "metadata": {},
   "source": [
    "**_`Checkbox` Method_**\n"
   ]
  },
  {
   "cell_type": "code",
   "execution_count": null,
   "metadata": {},
   "outputs": [],
   "source": [
    "if st.checkbox(\"Accept the conditions\"):\n",
    "    st.balloons()\n",
    "    "
   ]
  },
  {
   "cell_type": "markdown",
   "metadata": {},
   "source": [
    "**_`Radio` Button_**"
   ]
  },
  {
   "cell_type": "code",
   "execution_count": null,
   "metadata": {},
   "outputs": [],
   "source": [
    "s=st.radio(\"Hello Kindly enter the widget\",\n",
    "         [\"checkbox\",\"Toggle\"])\n",
    "         \n",
    "if s==\"checkbox\":\n",
    "    st.checkbox(\"widget checkbox\")\n",
    "else:\n",
    "    if st.toggle(\"Hello Toggle this\"):\n",
    "        st.write(\":red[You have done it] Super\")"
   ]
  },
  {
   "cell_type": "markdown",
   "metadata": {},
   "source": [
    "**_Select and Multi `Select box`_**"
   ]
  },
  {
   "cell_type": "code",
   "execution_count": null,
   "metadata": {},
   "outputs": [],
   "source": [
    "k=st.selectbox(\"choose one option\",['a','b','c','d'])\n",
    "if k=='a':\n",
    "    st.balloons()\n",
    "    st.title(f\"The selected option is :red[{k.capitalize()}]\")\n",
    "\n",
    "l=[\"srikanth\",\"surya\", \"navin\"]\n",
    "sel=st.multiselect(\"Select the options\",l)\n",
    "for i in sel:\n",
    "    st.write(f\"{i} is the student of Gradtwin\")"
   ]
  },
  {
   "cell_type": "markdown",
   "metadata": {},
   "source": [
    "**_`Slider` input_**"
   ]
  },
  {
   "cell_type": "code",
   "execution_count": null,
   "metadata": {},
   "outputs": [],
   "source": [
    "s=st.slider(\"enter the age using slider\",1,100,25)\n",
    "if s<18:\n",
    "    st.write(f'Not eligible to Vote as you are only :red[{s}] years old')\n",
    "\n",
    "val=st.slider(\"the Range\",0,300,(20,30))\n",
    "st.write('the entered range is',val[0],'to',val[1])"
   ]
  },
  {
   "cell_type": "markdown",
   "metadata": {},
   "source": [
    "**_`Input` from user_**"
   ]
  },
  {
   "cell_type": "code",
   "execution_count": null,
   "metadata": {},
   "outputs": [],
   "source": [
    "import datetime\n",
    "name=st.text_input(\"enter the name\",placeholder=\"Enter the Name\")\n",
    "pwd=st.text_input(\"enter password\",placeholder=\"Password\",type=\"password\")\n",
    "d=st.date_input(\"Date Range\",value=((datetime.datetime(2023, 1, 1),\n",
    "datetime.datetime(2023, 1, 31))))\n",
    "st.write(d[1].day-d[0].day)\n",
    "\n"
   ]
  },
  {
   "cell_type": "markdown",
   "metadata": {},
   "source": [
    "**_`FORMS`_** "
   ]
  },
  {
   "cell_type": "code",
   "execution_count": null,
   "metadata": {},
   "outputs": [],
   "source": [
    "with st.form(key='form1'):\n",
    "    n= st.text_input(\"Name\")\n",
    "    a=st.number_input(\"enter age\",1,100,step=1)\n",
    "    s=st.form_submit_button(\"Submit The Form\")\n",
    "    aud=st.audio_input(\"Speak for 10 seconds\",)\n",
    "    em=st.camera_input(\"picture please\")\n",
    "    \n",
    "\n",
    "    if em:\n",
    "        st.image(em,width=200,caption=\"Srikanth\")\n",
    "    if aud:\n",
    "        st.audio(aud)\n",
    "    if a>=18:\n",
    "        st.success(\"You are eligible to vote\")\n",
    "    else:\n",
    "        st.error(f\"{n} you need {18-a} year to get eligible to vote\")\n",
    "\n",
    "\n",
    "\n",
    "\n",
    "# Chats\n",
    "\n",
    "p=st.chat_input(placeholder=\"say\")\n",
    "if p:\n",
    "    st.write(f\"user as {p}\")"
   ]
  },
  {
   "cell_type": "markdown",
   "metadata": {},
   "source": [
    "**_`Metrics` and `Delta` Evaluations_**"
   ]
  },
  {
   "cell_type": "code",
   "execution_count": null,
   "metadata": {},
   "outputs": [],
   "source": [
    "st.metric(\"PRICE\",value=25,delta=\"-25\")\n",
    "st.metric(\"QUANTITY\",value=20,delta=\"+50\")"
   ]
  },
  {
   "cell_type": "markdown",
   "metadata": {},
   "source": [
    "**_SESSION STATE IN `st.session_state`_**\n",
    "\n",
    "* _[Drawback of ReRun of the page]_\n",
    "* _Diff between ReRun and Refresh_"
   ]
  },
  {
   "cell_type": "code",
   "execution_count": null,
   "metadata": {},
   "outputs": [],
   "source": [
    "c=0\n",
    "if \"c\" not in st.session_state:\n",
    "    st.session_state.c=0\n",
    "\n",
    "if st.button(\"press\"):\n",
    "    st.session_state.c+=1\n",
    "\n",
    "st.write(st.session_state.c)\n",
    "if st.session_state.c in range(18,21):\n",
    "    st.error(\"enough man\")"
   ]
  },
  {
   "cell_type": "markdown",
   "metadata": {},
   "source": [
    "**_`Status` messages_**"
   ]
  },
  {
   "cell_type": "code",
   "execution_count": null,
   "metadata": {},
   "outputs": [],
   "source": [
    "st.success(\"success message\",icon=\"✌🏻\")\n",
    "st.error(\"this is error message\",icon=\"👎🏻\")\n",
    "st.info(\"Information\",icon=\"💪🏻\")\n",
    "st.warning(\"warning message\",icon=\"⚠️\")"
   ]
  },
  {
   "cell_type": "markdown",
   "metadata": {},
   "source": [
    "**_`Spinner` and `Progress bar`_**"
   ]
  },
  {
   "cell_type": "code",
   "execution_count": null,
   "metadata": {},
   "outputs": [],
   "source": [
    "import time\n",
    "\n",
    "t=\"Loading\"\n",
    "c1,c2=st.columns(2)\n",
    "t=\"Loading...\"\n",
    "if st.button(\"Enter\"):\n",
    "    b=c2.progress(0,text=t)\n",
    "    for i in range(100):\n",
    "        time.sleep(0.01)\n",
    "        b.progress(i+1,text=t)\n",
    "    st.success(\"Successfull\") \n",
    "\n",
    "if c2.button(\"Enter\"):\n",
    "    with st.spinner(text=t):\n",
    "        time.sleep(3)\n",
    "    c2.success(\":D\")\n",
    "    "
   ]
  },
  {
   "cell_type": "markdown",
   "metadata": {},
   "source": [
    "**_`Side Bar` and `columns` , How to access the columns using \"with\"?_**"
   ]
  },
  {
   "cell_type": "code",
   "execution_count": null,
   "metadata": {},
   "outputs": [],
   "source": [
    "st.sidebar.title(\"hello\")\n",
    "c1,c2=st.columns(2)\n",
    "with c1:\n",
    "    st.header(\"hello c1\")\n",
    "with c2:\n",
    "    st.header(\"hello c2\")"
   ]
  },
  {
   "cell_type": "markdown",
   "metadata": {},
   "source": [
    "**_```TABS``` in the page_**"
   ]
  },
  {
   "cell_type": "code",
   "execution_count": null,
   "metadata": {},
   "outputs": [],
   "source": [
    "t1,t2=st.tabs([\"A\",\"B\"])\n",
    "with t1:\n",
    "    st.header(\"A\")\n",
    "    st.write(\"you are in A tab\")\n",
    "\n",
    "with t2:\n",
    "    st.header(\"B\")\n",
    "    st.write(\"You are in B tab\")\n",
    "    if st.button(\"Baloon Baloon\"):\n",
    "        st.balloons()\n"
   ]
  },
  {
   "cell_type": "markdown",
   "metadata": {},
   "source": [
    "**_`Expanded` Charts_** "
   ]
  },
  {
   "cell_type": "code",
   "execution_count": null,
   "metadata": {},
   "outputs": [],
   "source": [
    "import streamlit as st\n",
    "import numpy as np\n",
    "st.sidebar.title(\"Stream1it \")\n",
    "st.sidebar.header(\":blue[lntroduction to Databases]\")\n",
    "st.sidebar.subheader(\" Web Applications\")\n",
    "data = np.random.randn(10, 1)\n",
    "with st.expander(\"Chart\",expanded=True):\n",
    "    st.subheader(\"Expander with chart\")\n",
    "    st.line_chart(data)\n",
    "with st.expander(\"Data\",expanded=False):\n",
    "    st.subheader(\"Expander with data\")\n",
    "    st.write(data)\n"
   ]
  }
 ],
 "metadata": {
  "kernelspec": {
   "display_name": "Python 3",
   "language": "python",
   "name": "python3"
  },
  "language_info": {
   "codemirror_mode": {
    "name": "ipython",
    "version": 3
   },
   "file_extension": ".py",
   "mimetype": "text/x-python",
   "name": "python",
   "nbconvert_exporter": "python",
   "pygments_lexer": "ipython3",
   "version": "3.12.3"
  }
 },
 "nbformat": 4,
 "nbformat_minor": 2
}
